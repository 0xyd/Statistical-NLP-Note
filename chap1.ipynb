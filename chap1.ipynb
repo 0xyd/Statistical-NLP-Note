{
 "cells": [
  {
   "cell_type": "markdown",
   "metadata": {},
   "source": [
    "# Introduction\n",
    "\n",
    "Lanugages do not strictly follow the rules of concept. People tends to bend the rules to satisfy their need in communication.\n",
    "\n",
    "Instead of understanding the whole rules, we should ask ourselves \"What are common patterns that occur in languages we use\". To achieve the goal, we use mathematical tool call **Statistics**"
   ]
  },
  {
   "cell_type": "markdown",
   "metadata": {},
   "source": [
    "## Terminology\n",
    "\n",
    "**Corpus**: A body of texts is call *corpus* in latin and the collection of *corpus* is namely called *corpora*.\n",
    "\n",
    "**Grammaticality**: An metrics is used to judge the structure of a sentence is well-formed.\n",
    "\n",
    "**Conventionality**: People frequently express in a certain way though there are other approaches exist.\n",
    "\n",
    "**word token**: The entity of word  \n",
    "\n",
    "**word type**: Each word represents its own *type*."
   ]
  },
  {
   "cell_type": "markdown",
   "metadata": {},
   "source": [
    "## Resources\n",
    "\n",
    "There are several corpora we often use in Statistical NLP Task:\n",
    "\n",
    "* Brown Corpus\n",
    "* Balanced Corpus\n",
    "* Lancaster-Oslo-Bergen\n",
    "* Susanne Corpus\n",
    "* Penn Treebank\n",
    "* Canadian Hansard\n",
    "* WordNet\n",
    "\n",
    "\n"
   ]
  },
  {
   "cell_type": "markdown",
   "metadata": {},
   "source": [
    "## Zipf's Law\n",
    "\n",
    "Zipf's Law shows that the product of words' frequency and their ranking $r$ is a constant:\n",
    "\n",
    "$$f \\cdot r = k$$\n",
    "\n",
    "Simply to say, the frequency of word rank 100th is three times higher than the word rank 300th. However, this law is not really a Law rather an emprical result of word type statistic. The high rank words and the low rank ones bend the zip law severely.  "
   ]
  },
  {
   "cell_type": "markdown",
   "metadata": {},
   "source": [
    "## Mandelbrot's Law\n",
    "\n",
    "The Mandelbrot discovers the Zipf's Law cannot fit the words especially for the words in high and low rank so he addresses a more general approach:\n",
    "\n",
    "$$f = P (r + \\rho)^{-B}$$\n",
    "or \n",
    "$$\\log{f} = \\log{P} - B \\log(r + \\rho)$$\n",
    "\n",
    "$B$ and $\\rho$ are the parameters we tune for fitting the data. If $B = 0$ and $\\rho = 0$, the Mandelbrot's approach will become exactly the same as Zipf's Law. "
   ]
  },
  {
   "cell_type": "code",
   "execution_count": null,
   "metadata": {},
   "outputs": [],
   "source": []
  }
 ],
 "metadata": {
  "kernelspec": {
   "display_name": "Python 3",
   "language": "python",
   "name": "python3"
  },
  "language_info": {
   "codemirror_mode": {
    "name": "ipython",
    "version": 3
   },
   "file_extension": ".py",
   "mimetype": "text/x-python",
   "name": "python",
   "nbconvert_exporter": "python",
   "pygments_lexer": "ipython3",
   "version": "3.6.5"
  }
 },
 "nbformat": 4,
 "nbformat_minor": 2
}
